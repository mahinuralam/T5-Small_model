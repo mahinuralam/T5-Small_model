{
 "cells": [
  {
   "cell_type": "code",
   "execution_count": 1,
   "id": "342598c0",
   "metadata": {},
   "outputs": [],
   "source": [
    "from transformers import T5ForConditionalGeneration, T5Tokenizer"
   ]
  },
  {
   "cell_type": "code",
   "execution_count": 2,
   "id": "321620c0",
   "metadata": {},
   "outputs": [
    {
     "name": "stderr",
     "output_type": "stream",
     "text": [
      "/home/mahinur/.local/lib/python3.10/site-packages/transformers/generation/utils.py:1353: UserWarning: Using `max_length`'s default (20) to control the generation length. This behaviour is deprecated and will be removed from the config in v5 of Transformers -- we recommend using `max_new_tokens` to control the maximum length of the generation.\n",
      "  warnings.warn(\n",
      "2023-07-15 00:02:03.426183: I tensorflow/core/platform/cpu_feature_guard.cc:182] This TensorFlow binary is optimized to use available CPU instructions in performance-critical operations.\n",
      "To enable the following instructions: AVX2 FMA, in other operations, rebuild TensorFlow with the appropriate compiler flags.\n",
      "2023-07-15 00:02:04.762254: W tensorflow/compiler/tf2tensorrt/utils/py_utils.cc:38] TF-TRT Warning: Could not find TensorRT\n"
     ]
    },
    {
     "name": "stdout",
     "output_type": "stream",
     "text": [
      "Translated text to Romanian: Sunt un cetățean mândru al Bangladeshului\n"
     ]
    }
   ],
   "source": [
    "def translate_text(input_text, target_language):\n",
    "    \"\"\"\n",
    "    Translates the given input_text from English to the target_language using the T5 model.\n",
    "\n",
    "    Args:\n",
    "        input_text (str): The text to be translated.\n",
    "        target_language (str): The target language for translation.\n",
    "\n",
    "    Returns:\n",
    "        str: The translated text in the target language.\n",
    "    \"\"\"\n",
    "    tokenizer = T5Tokenizer.from_pretrained('t5-small')\n",
    "    model = T5ForConditionalGeneration.from_pretrained('t5-small', return_dict=True)\n",
    "\n",
    "    # Construct the input prompt for translation\n",
    "    input_prompt = f\"translate English to {target_language}: \"\n",
    "\n",
    "    # Tokenize and encode the input text with the input prompt\n",
    "    input_ids = tokenizer(input_prompt + input_text, return_tensors=\"pt\").input_ids\n",
    "\n",
    "    # Generate translation outputs\n",
    "    outputs = model.generate(input_ids)\n",
    "\n",
    "    # Decode the generated output tokens to obtain the translated text\n",
    "    translated_text = tokenizer.decode(outputs[0], skip_special_tokens=True)\n",
    "\n",
    "    return translated_text\n",
    "\n",
    "\n",
    "def main():\n",
    "    input_text = \"I am a proud citizen of Bangladesh\"\n",
    "    target_language = \"Romanian\"\n",
    "\n",
    "    translated_text = translate_text(input_text, target_language)\n",
    "    print(f\"Translated text to {target_language}: {translated_text}\")\n",
    "\n",
    "\n",
    "if __name__ == \"__main__\":\n",
    "    main()"
   ]
  },
  {
   "cell_type": "code",
   "execution_count": null,
   "id": "802dc066",
   "metadata": {},
   "outputs": [],
   "source": []
  }
 ],
 "metadata": {
  "kernelspec": {
   "display_name": "Python 3 (ipykernel)",
   "language": "python",
   "name": "python3"
  },
  "language_info": {
   "codemirror_mode": {
    "name": "ipython",
    "version": 3
   },
   "file_extension": ".py",
   "mimetype": "text/x-python",
   "name": "python",
   "nbconvert_exporter": "python",
   "pygments_lexer": "ipython3",
   "version": "3.10.10"
  }
 },
 "nbformat": 4,
 "nbformat_minor": 5
}
